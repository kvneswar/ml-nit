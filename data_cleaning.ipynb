{
  "nbformat": 4,
  "nbformat_minor": 0,
  "metadata": {
    "colab": {
      "provenance": [],
      "authorship_tag": "ABX9TyN9Fo3ox9ubBfXv7Fvm9yGB",
      "include_colab_link": true
    },
    "kernelspec": {
      "name": "python3",
      "display_name": "Python 3"
    },
    "language_info": {
      "name": "python"
    }
  },
  "cells": [
    {
      "cell_type": "markdown",
      "metadata": {
        "id": "view-in-github",
        "colab_type": "text"
      },
      "source": [
        "<a href=\"https://colab.research.google.com/github/kvneswar/ml-nit/blob/master/data_cleaning.ipynb\" target=\"_parent\"><img src=\"https://colab.research.google.com/assets/colab-badge.svg\" alt=\"Open In Colab\"/></a>"
      ]
    },
    {
      "cell_type": "code",
      "execution_count": 37,
      "metadata": {
        "colab": {
          "base_uri": "https://localhost:8080/"
        },
        "id": "_yjBAbiaoNDy",
        "outputId": "32fb68ce-9222-4efe-9182-1db9f9087785"
      },
      "outputs": [
        {
          "output_type": "stream",
          "name": "stdout",
          "text": [
            "   a  b\n",
            "0  1  2\n",
            "1  3  4\n"
          ]
        }
      ],
      "source": [
        "import pandas as pd\n",
        "import warnings\n",
        "\n",
        "warnings.filterwarnings(\"ignore\")\n",
        "\n",
        "#{'a': [1, 2], 'b': [3, 4]}\n",
        "raw_data = pd.DataFrame([[1, 2], [3, 4]])\n",
        "\n",
        "raw_data.columns = ['a', 'b']\n",
        "\n",
        "print(raw_data)"
      ]
    },
    {
      "cell_type": "code",
      "source": [
        "sample_data = [\n",
        "    {'Address': '123, Main St', 'Date': '2023-08-08', 'Name': 'Alice', 'Time': '10:00'},\n",
        "    {'Address': '456, Elm Ave', 'Date': '2023-08-09', 'Name': 'Bob', 'Time': '02:30'},\n",
        "    {'Address': '789, Oak Rd', 'Date': '2023-08-10', 'Name': 'Charlie', 'Time': '09:15'},\n",
        "    {'Address': '321, Pine Ln', 'Date': '2023-08-11', 'Name': 'David', 'Time': '04:45'},\n",
        "    {'Address': '555, Cedar Dr', 'Date': '2023-08-12', 'Name': 'Eva', 'Time': '12:00'}\n",
        "]\n",
        "\n",
        "raw_df = pd.DataFrame(sample_data)\n",
        "\n",
        "clean_df_columns = ['street number', 'street name', 'day', 'month', 'year', 'name', 'hour', 'min']\n",
        "\n",
        "clean_df = pd.DataFrame(columns=clean_df_columns)\n",
        "\n",
        "for index, row in raw_df.iterrows():\n",
        "  address_list = row['Address'].split(', ')\n",
        "  date_list = row['Date'].split('-')\n",
        "  name = row['Name']\n",
        "  time_list = row['Time'].split(':')\n",
        "\n",
        "  new_row = {}\n",
        "\n",
        "  new_row['street number'] = address_list[0]\n",
        "  new_row['street name'] = address_list[1]\n",
        "  new_row['day'] = date_list[0]\n",
        "  new_row['month'] = date_list[1]\n",
        "  new_row['year'] = date_list[2]\n",
        "  new_row['name'] = name\n",
        "  new_row['hour'] = time_list[0]\n",
        "  new_row['min'] = time_list[1]\n",
        "\n",
        "  clean_df = clean_df.append(new_row, ignore_index=True)\n",
        "\n",
        "print(clean_df)"
      ],
      "metadata": {
        "colab": {
          "base_uri": "https://localhost:8080/"
        },
        "id": "GPY7cbpWqeOk",
        "outputId": "37f68758-b6f6-4c10-8629-76f6a194978b"
      },
      "execution_count": 39,
      "outputs": [
        {
          "output_type": "stream",
          "name": "stdout",
          "text": [
            "  street number street name   day month year     name hour min\n",
            "0           123     Main St  2023    08   08    Alice   10  00\n",
            "1           456     Elm Ave  2023    08   09      Bob   02  30\n",
            "2           789      Oak Rd  2023    08   10  Charlie   09  15\n",
            "3           321     Pine Ln  2023    08   11    David   04  45\n",
            "4           555    Cedar Dr  2023    08   12      Eva   12  00\n"
          ]
        }
      ]
    }
  ]
}