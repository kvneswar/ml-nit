{
  "nbformat": 4,
  "nbformat_minor": 0,
  "metadata": {
    "colab": {
      "provenance": [],
      "mount_file_id": "1stF5pt9uwVOEI9b-3SjaUD4LhQdcESLz",
      "authorship_tag": "ABX9TyPXnQezuEGNgEHZA0tmj/cO",
      "include_colab_link": true
    },
    "kernelspec": {
      "name": "python3",
      "display_name": "Python 3"
    },
    "language_info": {
      "name": "python"
    }
  },
  "cells": [
    {
      "cell_type": "markdown",
      "metadata": {
        "id": "view-in-github",
        "colab_type": "text"
      },
      "source": [
        "<a href=\"https://colab.research.google.com/github/kvneswar/ml-nit/blob/master/03statistics_income_expense_data_analysis.ipynb\" target=\"_parent\"><img src=\"https://colab.research.google.com/assets/colab-badge.svg\" alt=\"Open In Colab\"/></a>"
      ]
    },
    {
      "cell_type": "code",
      "execution_count": 31,
      "metadata": {
        "id": "L1dc0xMo5sMJ",
        "colab": {
          "base_uri": "https://localhost:8080/"
        },
        "outputId": "4825474c-66b8-43f0-b63c-115093969aa2"
      },
      "outputs": [
        {
          "output_type": "stream",
          "name": "stdout",
          "text": [
            "<class 'pandas.core.frame.DataFrame'>\n",
            "RangeIndex: 50 entries, 0 to 49\n",
            "Data columns (total 7 columns):\n",
            " #   Column                    Non-Null Count  Dtype \n",
            "---  ------                    --------------  ----- \n",
            " 0   Mthly_HH_Income           50 non-null     int64 \n",
            " 1   Mthly_HH_Expense          50 non-null     int64 \n",
            " 2   No_of_Fly_Members         50 non-null     int64 \n",
            " 3   Emi_or_Rent_Amt           50 non-null     int64 \n",
            " 4   Annual_HH_Income          50 non-null     int64 \n",
            " 5   Highest_Qualified_Member  50 non-null     object\n",
            " 6   No_of_Earning_Members     50 non-null     int64 \n",
            "dtypes: int64(6), object(1)\n",
            "memory usage: 2.9+ KB\n",
            "None\n",
            "(50, 7)\n",
            "       Mthly_HH_Income  Mthly_HH_Expense  No_of_Fly_Members  Emi_or_Rent_Amt  \\\n",
            "count        50.000000         50.000000          50.000000        50.000000   \n",
            "mean      41558.000000      18818.000000           4.060000      3060.000000   \n",
            "std       26097.908979      12090.216824           1.517382      6241.434948   \n",
            "min        5000.000000       2000.000000           1.000000         0.000000   \n",
            "25%       23550.000000      10000.000000           3.000000         0.000000   \n",
            "50%       35000.000000      15500.000000           4.000000         0.000000   \n",
            "75%       50375.000000      25000.000000           5.000000      3500.000000   \n",
            "max      100000.000000      50000.000000           7.000000     35000.000000   \n",
            "\n",
            "       Annual_HH_Income  No_of_Earning_Members  \n",
            "count      5.000000e+01              50.000000  \n",
            "mean       4.900190e+05               1.460000  \n",
            "std        3.201358e+05               0.734291  \n",
            "min        6.420000e+04               1.000000  \n",
            "25%        2.587500e+05               1.000000  \n",
            "50%        4.474200e+05               1.000000  \n",
            "75%        5.947200e+05               2.000000  \n",
            "max        1.404000e+06               4.000000  \n",
            "Mthly_HH_Income             False\n",
            "Mthly_HH_Expense            False\n",
            "No_of_Fly_Members           False\n",
            "Emi_or_Rent_Amt             False\n",
            "Annual_HH_Income            False\n",
            "Highest_Qualified_Member    False\n",
            "No_of_Earning_Members       False\n",
            "dtype: bool\n",
            "41558.0\n",
            "Meadian of the Mthly_HH_Income: 35000.0\n"
          ]
        }
      ],
      "source": [
        "import pandas as pd\n",
        "\n",
        "#pd.read_csv('/content/drive/MyDrive/Career/ML/NIT/May/3rd/Descriptive Stats/Inc_Exp_Data.csv')\n",
        "\n",
        "df_inc_exp = pd.read_csv('/content/sample_data/Inc_Exp_Data.csv')\n",
        "\n",
        "#information about the dataframe\n",
        "\"\"\"\n",
        "It gives the information about the number of rows, columns\n",
        "Each column name, non-null count and the datatype\n",
        "\"\"\"\n",
        "\n",
        "print(df_inc_exp.info())\n",
        "\n",
        "# to get the shape of the dataframe i.e. number of rows and the columns\n",
        "\n",
        "print(df_inc_exp.shape)\n",
        "\n",
        "# To get the statistical info for the dataframe\n",
        "\n",
        "print(df_inc_exp.describe())\n",
        "\n",
        "#To check any of the columns has any null values?\n",
        "\n",
        "print(df_inc_exp.isna().any())\n",
        "\n",
        "#Mean of Mthly_HH_Income\n",
        "\n",
        "print(df_inc_exp.Mthly_HH_Income.mean())\n",
        "\n",
        "print(\"Meadian of the Mthly_HH_Income: {}\".format(df_inc_exp.Mthly_HH_Income.median()))\n",
        "\n",
        "#https://colab.research.google.com/drive/16WbMlTKBxJ0tTgLRS2_Oskzg4-3vFoic#scrollTo=DIOafpC3CalF"
      ]
    }
  ]
}