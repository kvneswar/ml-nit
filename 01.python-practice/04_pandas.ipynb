{
  "nbformat": 4,
  "nbformat_minor": 0,
  "metadata": {
    "colab": {
      "provenance": [],
      "authorship_tag": "ABX9TyNrPygMVwMYA3RQxcfcwli3",
      "include_colab_link": true
    },
    "kernelspec": {
      "name": "python3",
      "display_name": "Python 3"
    },
    "language_info": {
      "name": "python"
    }
  },
  "cells": [
    {
      "cell_type": "markdown",
      "metadata": {
        "id": "view-in-github",
        "colab_type": "text"
      },
      "source": [
        "<a href=\"https://colab.research.google.com/github/kvneswar/ml-nit/blob/master/04_pandas.ipynb\" target=\"_parent\"><img src=\"https://colab.research.google.com/assets/colab-badge.svg\" alt=\"Open In Colab\"/></a>"
      ]
    },
    {
      "cell_type": "code",
      "execution_count": 5,
      "metadata": {
        "id": "kKbiTBjZ72FS"
      },
      "outputs": [],
      "source": [
        "import pandas as pd"
      ]
    },
    {
      "cell_type": "code",
      "source": [
        "\"\"\"\n",
        "  Pandas:\n",
        "    - similar to a SPREADSHEET or a DB TABLE\n",
        "  Types of DataStructures supported by Pandas\n",
        "    1. Series\n",
        "      - One Dimensional Array\n",
        "      - similar to a column in a spreadsheet or single column in a database table\n",
        "    2. DataFrame\n",
        "      - Two Dimensional Array\n",
        "\"\"\"\n",
        "\n"
      ],
      "metadata": {
        "id": "JwKN3t1T8LrY"
      },
      "execution_count": null,
      "outputs": []
    },
    {
      "cell_type": "code",
      "source": [
        "series_list = pd.Series(['a', 'b', 'c'], index=[7, 8, 9])\n",
        "\n",
        "print('series from a list:')\n",
        "print(series_list)\n",
        "\n",
        "series_map = pd.Series({7: 'a', 8: 'b', 9: 'c'})\n",
        "print('series from a map:')\n",
        "print(series_map)\n",
        "\n",
        "# Note: we can't define the column name for a Series datastructure\n",
        "\n",
        "df_list = pd.DataFrame([['a', 'b', 'c'], ['d', 'e', 'f']], index=[7, 8], columns=['letter1', 'letter2', 'letter3'])\n",
        "\n",
        "print('dataframe from a list')\n",
        "print(df_list)\n",
        "\n",
        "df_map = pd.DataFrame({'letter1': ['a', 'd'], 'letter2': ['b', 'd'], 'letter3': ['c', 'f']}, index=[7, 8])\n",
        "\n",
        "print('dataframe from a map')\n",
        "print(df_map)\n",
        "\n",
        "print('filter the DataFrame')\n",
        "\n",
        "df_filter = df_list['letter3'] > 'b'\n",
        "\n",
        "print(df_filter)\n",
        "print(df_list[df_filter])\n",
        "\n",
        "print(df_list.sort_values(ascending=False, by=['letter1', 'letter3']))"
      ],
      "metadata": {
        "colab": {
          "base_uri": "https://localhost:8080/"
        },
        "id": "_kQJS_TZBV5_",
        "outputId": "74c1784e-b543-41d2-e065-89cb22f84687"
      },
      "execution_count": 7,
      "outputs": [
        {
          "output_type": "stream",
          "name": "stdout",
          "text": [
            "series from a list:\n",
            "7    a\n",
            "8    b\n",
            "9    c\n",
            "dtype: object\n",
            "series from a map:\n",
            "7    a\n",
            "8    b\n",
            "9    c\n",
            "dtype: object\n",
            "dataframe from a list\n",
            "  letter1 letter2 letter3\n",
            "7       a       b       c\n",
            "8       d       e       f\n",
            "dataframe from a map\n",
            "  letter1 letter2 letter3\n",
            "7       a       b       c\n",
            "8       d       d       f\n",
            "filter the DataFrame\n",
            "7    True\n",
            "8    True\n",
            "Name: letter3, dtype: bool\n",
            "  letter1 letter2 letter3\n",
            "7       a       b       c\n",
            "8       d       e       f\n",
            "  letter1 letter2 letter3\n",
            "8       d       e       f\n",
            "7       a       b       c\n"
          ]
        }
      ]
    }
  ]
}