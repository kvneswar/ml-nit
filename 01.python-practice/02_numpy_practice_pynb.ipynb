{
  "nbformat": 4,
  "nbformat_minor": 0,
  "metadata": {
    "colab": {
      "provenance": [],
      "authorship_tag": "ABX9TyOiKNHr6SxT+mLpTGYnuPqX",
      "include_colab_link": true
    },
    "kernelspec": {
      "name": "python3",
      "display_name": "Python 3"
    },
    "language_info": {
      "name": "python"
    }
  },
  "cells": [
    {
      "cell_type": "markdown",
      "metadata": {
        "id": "view-in-github",
        "colab_type": "text"
      },
      "source": [
        "<a href=\"https://colab.research.google.com/github/kvneswar/ml-nit/blob/master/02_numpy_practice_pynb.ipynb\" target=\"_parent\"><img src=\"https://colab.research.google.com/assets/colab-badge.svg\" alt=\"Open In Colab\"/></a>"
      ]
    },
    {
      "cell_type": "code",
      "execution_count": 38,
      "metadata": {
        "colab": {
          "base_uri": "https://localhost:8080/"
        },
        "id": "3ZHTs6jFRE1-",
        "outputId": "d481a1a8-8b76-40d6-be05-d102f96bb9fd"
      },
      "outputs": [
        {
          "output_type": "stream",
          "name": "stdout",
          "text": [
            "<class 'numpy.ndarray'>\n",
            "[0 1 2 3 4 5 6 7 8 9]\n",
            "[0 2 4 6 8]\n",
            "[1 1 1]\n",
            "[[1 1 1]\n",
            " [1 1 1]\n",
            " [1 1 1]]\n",
            "9\n",
            "[9 6 1 4 8]\n"
          ]
        }
      ],
      "source": [
        "import numpy as np\n",
        "\n",
        "# convert list to an array\n",
        "arr = np.array([1, 2, 3])\n",
        "\n",
        "print(type(arr))\n",
        "\n",
        "arr = np.arange(0, 10) # generate an array with a range\n",
        "\n",
        "print(arr)\n",
        "\n",
        "arr = np.arange(0, 10, 2) # generate an array with a range with step\n",
        "\n",
        "print(arr)\n",
        "\n",
        "arr = np.ones(3, np.int32) # two dim array\n",
        "\n",
        "print(arr)\n",
        "\n",
        "arr = np.ones((3, 3), np.int32) # two dim array\n",
        "\n",
        "print(arr)\n",
        "\n",
        "arr = np.random.randint(0, 10)\n",
        "\n",
        "print(arr)\n",
        "\n",
        "arr = np.random.randint(0, 10, 5)\n",
        "\n",
        "print(arr)"
      ]
    }
  ]
}